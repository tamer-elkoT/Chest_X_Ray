{
 "cells": [
  {
   "cell_type": "markdown",
   "id": "b341e2e9",
   "metadata": {},
   "source": [
    "# Chest X-Ray Multi‑Class Project — Role Notebook\n",
    "\n",
    "**Dataset:** Kaggle “Lungs Disease Dataset (4 types)” by Omkar Manohar Dalvi  \n",
    "**Classes:** Normal, Bacterial Pneumonia, Viral Pneumonia, COVID‑19, Tuberculosis\n",
    "\n",
    "> Use this notebook in **Google Colab**. If you’re running locally, adapt the Drive mount steps accordingly."
   ]
  },
  {
   "cell_type": "markdown",
   "id": "b1e27127",
   "metadata": {},
   "source": [
    "## Role — Member 1: Dataset Manager"
   ]
  },
  {
   "cell_type": "markdown",
   "id": "df63390a",
   "metadata": {},
   "source": [
    "**Responsibilities**  \n",
    "- Download and organize the dataset from Kaggle  \n",
    "- Inspect for corrupted/mislabeled files  \n",
    "- Count samples per class; generate initial stats  \n",
    "- Document dataset source & licensing  \n",
    "- Produce a cleaned directory ready for training"
   ]
  },
  {
   "cell_type": "markdown",
   "id": "96517a8a",
   "metadata": {},
   "source": [
    "## Environment & Paths\n",
    "\n",
    "- The code below mounts Google Drive (for persistence) and prepares base paths.  \n",
    "- Set `DATASET_DIR` to where the extracted dataset resides (after Kaggle download)."
   ]
  },
  {
   "cell_type": "markdown",
   "id": "f378b8d6",
   "metadata": {},
   "source": [
    "## (Optional) Download from Kaggle directly in Colab\n",
    "\n",
    "Run the following once to set up your Kaggle API, then download and unzip the dataset directly into Drive."
   ]
  },
  {
   "cell_type": "markdown",
   "id": "0f41ee36",
   "metadata": {},
   "source": [
    "## Verify Structure & Basic Stats"
   ]
  },
  {
   "cell_type": "markdown",
   "id": "7dd1ad81",
   "metadata": {},
   "source": [
    "We assume the dataset contains subfolders by split and class, e.g.:\n",
    "\n",
    "```\n",
    "lungs_dataset/\n",
    "  train/\n",
    "    Bacterial Pneumonia/\n",
    "    Viral Pneumonia/\n",
    "    COVID/\n",
    "    TB/\n",
    "    Normal/\n",
    "  val/\n",
    "  test/\n",
    "```"
   ]
  },
  {
   "cell_type": "code",
   "execution_count": null,
   "id": "cd2af7ce",
   "metadata": {},
   "outputs": [],
   "source": [
    "# === Colab & Paths ===\n",
    "import os, sys, glob, json, random, shutil, time\n",
    "from pathlib import Path\n",
    "\n",
    "# If in Colab, mount Drive (safe to run elsewhere; it will just fail silently)\n",
    "try:\n",
    "    from google.colab import drive\n",
    "    drive.mount('/content/drive', force_remount=True)\n",
    "    IN_COLAB = True\n",
    "except Exception as e:\n",
    "    print(\"Not running on Colab or Drive not available:\", e)\n",
    "    IN_COLAB = False\n",
    "\n",
    "# Project root inside Drive (you can change this)\n",
    "PROJECT_ROOT = Path('/content/drive/MyDrive/Chest_XRay_Project')\n",
    "PROJECT_ROOT.mkdir(parents=True, exist_ok=True)\n",
    "\n",
    "# Where the dataset will live (after download & unzip). Adjust as needed.\n",
    "DATASET_DIR = PROJECT_ROOT / 'lungs_dataset'\n",
    "OUTPUTS_DIR = PROJECT_ROOT / 'outputs'\n",
    "MODELS_DIR = PROJECT_ROOT / 'models'\n",
    "REPORTS_DIR = PROJECT_ROOT / 'reports'\n",
    "\n",
    "for p in [OUTPUTS_DIR, MODELS_DIR, REPORTS_DIR]:\n",
    "    p.mkdir(parents=True, exist_ok=True)\n",
    "\n",
    "print(\"PROJECT_ROOT:\", PROJECT_ROOT)\n",
    "print(\"DATASET_DIR :\", DATASET_DIR)\n",
    "print(\"OUTPUTS_DIR :\", OUTPUTS_DIR)\n",
    "print(\"MODELS_DIR  :\", MODELS_DIR)\n",
    "print(\"REPORTS_DIR :\", REPORTS_DIR)"
   ]
  },
  {
   "cell_type": "code",
   "execution_count": null,
   "id": "d111dac9",
   "metadata": {},
   "outputs": [],
   "source": [
    "# === Kaggle direct download (optional) ===\n",
    "# 1) Upload kaggle.json when prompted\n",
    "try:\n",
    "    from google.colab import files\n",
    "    print(\"Upload kaggle.json (from Kaggle > Account > Create API Token)\")\n",
    "    uploaded = files.upload()\n",
    "    if 'kaggle.json' in uploaded:\n",
    "        os.makedirs('/root/.kaggle', exist_ok=True)\n",
    "        shutil.move('kaggle.json', '/root/.kaggle/kaggle.json')\n",
    "        os.chmod('/root/.kaggle/kaggle.json', 0o600)\n",
    "        !pip -q install kaggle >/dev/null\n",
    "        # Download dataset\n",
    "        !kaggle datasets download -d omkarmanohardalvi/lungs-disease-dataset-4-types -p $PROJECT_ROOT\n",
    "        # Unzip\n",
    "        !unzip -q -o $PROJECT_ROOT/lungs-disease-dataset-4-types.zip -d $PROJECT_ROOT\n",
    "        # Standardize folder name if needed\n",
    "        if not Path(DATASET_DIR).exists():\n",
    "            # Try to infer the extracted folder\n",
    "            candidates = [p for p in PROJECT_ROOT.iterdir() if p.is_dir() and 'lungs' in p.name.lower()]\n",
    "            if candidates:\n",
    "                candidates[0].rename(DATASET_DIR)\n",
    "        print(\"Download & extraction complete.\")\n",
    "    else:\n",
    "        print(\"kaggle.json not found. Skipping Kaggle step.\")\n",
    "except Exception as e:\n",
    "    print(\"Not on Colab or Kaggle step skipped:\", e)"
   ]
  },
  {
   "cell_type": "code",
   "execution_count": null,
   "id": "96c5d632",
   "metadata": {},
   "outputs": [],
   "source": [
    "# === Verify directory structure and counts ===\n",
    "from pathlib import Path\n",
    "from PIL import Image\n",
    "\n",
    "splits = ['train', 'val', 'test']\n",
    "classes = []\n",
    "\n",
    "stats = {}\n",
    "for split in splits:\n",
    "    split_dir = DATASET_DIR / split\n",
    "    if not split_dir.exists():\n",
    "        print(f\"Warning: split {split} not found at {split_dir}\")\n",
    "        continue\n",
    "    class_dirs = [p for p in split_dir.iterdir() if p.is_dir()]\n",
    "    if not classes and class_dirs:\n",
    "        classes = [c.name for c in class_dirs]\n",
    "    stats[split] = {}\n",
    "    for c in class_dirs:\n",
    "        n = len(list(c.glob('*.png'))) + len(list(c.glob('*.jpg'))) + len(list(c.glob('*.jpeg'))) + len(list(c.glob('*.JPG')))\n",
    "        stats[split][c.name] = n\n",
    "\n",
    "print(\"Classes detected:\", classes)\n",
    "print(json.dumps(stats, indent=2))\n",
    "\n",
    "# Save stats\n",
    "with open(PROJECT_ROOT / 'dataset_stats.json', 'w') as f:\n",
    "    json.dump(stats, f, indent=2)\n",
    "print(\"Saved:\", PROJECT_ROOT / 'dataset_stats.json')"
   ]
  },
  {
   "cell_type": "code",
   "execution_count": null,
   "id": "435d154c",
   "metadata": {},
   "outputs": [],
   "source": [
    "# === Detect corrupted images ===\n",
    "def is_image_ok(path):\n",
    "    try:\n",
    "        with Image.open(path) as img:\n",
    "            img.verify()  # quick integrity check\n",
    "        return True\n",
    "    except Exception:\n",
    "        return False\n",
    "\n",
    "bad_files = []\n",
    "for split in splits:\n",
    "    split_dir = DATASET_DIR / split\n",
    "    if not split_dir.exists():\n",
    "        continue\n",
    "    for c in classes:\n",
    "        cdir = split_dir / c\n",
    "        for ext in ('*.png','*.jpg','*.jpeg','*.JPG'):\n",
    "            for p in cdir.glob(ext):\n",
    "                if not is_image_ok(p):\n",
    "                    bad_files.append(str(p))\n",
    "\n",
    "print(\"Corrupted images found:\", len(bad_files))\n",
    "if bad_files:\n",
    "    with open(PROJECT_ROOT / 'corrupted_images.txt', 'w') as f:\n",
    "        f.write(\"\\n\".join(bad_files))\n",
    "    print(\"List saved to:\", PROJECT_ROOT / 'corrupted_images.txt')\n",
    "\n",
    "# Optionally remove corrupted files\n",
    "# for bf in bad_files:\n",
    "#     os.remove(bf)"
   ]
  },
  {
   "cell_type": "code",
   "execution_count": null,
   "id": "a5662ab0",
   "metadata": {},
   "outputs": [],
   "source": [
    "# === Licensing & provenance README ===\n",
    "readme = f\"\"\"\n",
    "# Dataset Provenance & Licensing\n",
    "\n",
    "- **Source**: Kaggle — Lungs Disease Dataset (4 types) by Omkar Manohar Dalvi\n",
    "- **URL**: https://www.kaggle.com/datasets/omkarmanohardalvi/lungs-disease-dataset-4-types\n",
    "- **Classes**: {classes if classes else 'To be detected after download'}\n",
    "- **Generated**: This README created by Member 1 Dataset Manager notebook.\n",
    "\n",
    "Notes:\n",
    "- Confirm the original dataset license on Kaggle before redistribution.\n",
    "- Avoid pushing raw data into public repos unless license permits.\n",
    "\"\"\"\n",
    "\n",
    "with open(PROJECT_ROOT / 'DATASET_README.md', 'w', encoding='utf-8') as f:\n",
    "    f.write(readme)\n",
    "print(\"Wrote:\", PROJECT_ROOT / 'DATASET_README.md')"
   ]
  }
 ],
 "metadata": {
  "colab": {
   "name": "",
   "provenance": []
  },
  "kernelspec": {
   "display_name": "Python 3",
   "language": "python",
   "name": "python3"
  }
 },
 "nbformat": 4,
 "nbformat_minor": 5
}
