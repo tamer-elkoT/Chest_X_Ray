{
 "cells": [
  {
   "cell_type": "markdown",
   "id": "6b47c83c",
   "metadata": {},
   "source": [
    "# Chest X-Ray Multi‑Class Project — Role Notebook\n",
    "\n",
    "**Dataset:** Kaggle “Lungs Disease Dataset (4 types)” by Omkar Manohar Dalvi  \n",
    "**Classes:** Normal, Bacterial Pneumonia, Viral Pneumonia, COVID‑19, Tuberculosis\n",
    "\n",
    "> Use this notebook in **Google Colab**. If you’re running locally, adapt the Drive mount steps accordingly."
   ]
  },
  {
   "cell_type": "markdown",
   "id": "56ca525b",
   "metadata": {},
   "source": [
    "## Role — Member 3: Model Architect"
   ]
  },
  {
   "cell_type": "markdown",
   "id": "4b9bb9b7",
   "metadata": {},
   "source": [
    "**Responsibilities**  \n",
    "- Build a **baseline CNN**  \n",
    "- Configure **transfer learning** models: MobileNetV2, EfficientNetB0, Xception  \n",
    "- Replace classification heads for 5 classes  \n",
    "- Provide model summaries and parameter counts"
   ]
  },
  {
   "cell_type": "markdown",
   "id": "1777b3b5",
   "metadata": {},
   "source": [
    "## Environment & Paths\n",
    "\n",
    "- The code below mounts Google Drive (for persistence) and prepares base paths.  \n",
    "- Set `DATASET_DIR` to where the extracted dataset resides (after Kaggle download)."
   ]
  },
  {
   "cell_type": "markdown",
   "id": "5e62c4ff",
   "metadata": {},
   "source": [
    "## Model Design Notes"
   ]
  },
  {
   "cell_type": "markdown",
   "id": "ae3b9729",
   "metadata": {},
   "source": [
    "- Use global average pooling + dropout + softmax head  \n",
    "- Start with frozen backbone, then unfreeze top blocks for fine‑tuning  \n",
    "- Compile with Adam and `CategoricalCrossentropy`"
   ]
  },
  {
   "cell_type": "code",
   "execution_count": null,
   "id": "a671aa15",
   "metadata": {},
   "outputs": [],
   "source": [
    "# === Colab & Paths ===\n",
    "import os, sys, glob, json, random, shutil, time\n",
    "from pathlib import Path\n",
    "\n",
    "# If in Colab, mount Drive (safe to run elsewhere; it will just fail silently)\n",
    "try:\n",
    "    from google.colab import drive\n",
    "    drive.mount('/content/drive', force_remount=True)\n",
    "    IN_COLAB = True\n",
    "except Exception as e:\n",
    "    print(\"Not running on Colab or Drive not available:\", e)\n",
    "    IN_COLAB = False\n",
    "\n",
    "# Project root inside Drive (you can change this)\n",
    "PROJECT_ROOT = Path('/content/drive/MyDrive/Chest_XRay_Project')\n",
    "PROJECT_ROOT.mkdir(parents=True, exist_ok=True)\n",
    "\n",
    "# Where the dataset will live (after download & unzip). Adjust as needed.\n",
    "DATASET_DIR = PROJECT_ROOT / 'lungs_dataset'\n",
    "OUTPUTS_DIR = PROJECT_ROOT / 'outputs'\n",
    "MODELS_DIR = PROJECT_ROOT / 'models'\n",
    "REPORTS_DIR = PROJECT_ROOT / 'reports'\n",
    "\n",
    "for p in [OUTPUTS_DIR, MODELS_DIR, REPORTS_DIR]:\n",
    "    p.mkdir(parents=True, exist_ok=True)\n",
    "\n",
    "print(\"PROJECT_ROOT:\", PROJECT_ROOT)\n",
    "print(\"DATASET_DIR :\", DATASET_DIR)\n",
    "print(\"OUTPUTS_DIR :\", OUTPUTS_DIR)\n",
    "print(\"MODELS_DIR  :\", MODELS_DIR)\n",
    "print(\"REPORTS_DIR :\", REPORTS_DIR)"
   ]
  },
  {
   "cell_type": "code",
   "execution_count": null,
   "id": "33c9f2e8",
   "metadata": {},
   "outputs": [],
   "source": [
    "import tensorflow as tf, json\n",
    "from tensorflow.keras import layers, models\n",
    "\n",
    "with open(PROJECT_ROOT / 'classes.json') as f:\n",
    "    CLASS_NAMES = json.load(f)\n",
    "NUM_CLASSES = len(CLASS_NAMES)\n",
    "IMG_SIZE = (224, 224)\n",
    "\n",
    "# === Utility: make head ===\n",
    "def make_head(x, num_classes):\n",
    "    x = layers.GlobalAveragePooling2D()(x)\n",
    "    x = layers.Dropout(0.2)(x)\n",
    "    out = layers.Dense(num_classes, activation='softmax')(x)\n",
    "    return out\n",
    "\n",
    "# === Baseline CNN ===\n",
    "def build_baseline(input_shape=(224,224,3), num_classes=NUM_CLASSES):\n",
    "    inp = layers.Input(shape=input_shape)\n",
    "    x = layers.Conv2D(32,3,activation='relu',padding='same')(inp)\n",
    "    x = layers.MaxPool2D()(x)\n",
    "    x = layers.Conv2D(64,3,activation='relu',padding='same')(x)\n",
    "    x = layers.MaxPool2D()(x)\n",
    "    x = layers.Conv2D(128,3,activation='relu',padding='same')(x)\n",
    "    x = layers.MaxPool2D()(x)\n",
    "    out = make_head(x, num_classes)\n",
    "    model = models.Model(inp, out, name='Baseline_CNN')\n",
    "    return model\n",
    "\n",
    "# === Transfer Learning Factory ===\n",
    "def build_tl(backbone_name='MobileNetV2', input_shape=(224,224,3), num_classes=NUM_CLASSES, trainable=False):\n",
    "    if backbone_name == 'MobileNetV2':\n",
    "        base = tf.keras.applications.MobileNetV2(include_top=False, input_shape=input_shape, weights='imagenet')\n",
    "        preprocess = tf.keras.applications.mobilenet_v2.preprocess_input\n",
    "    elif backbone_name == 'EfficientNetB0':\n",
    "        base = tf.keras.applications.EfficientNetB0(include_top=False, input_shape=input_shape, weights='imagenet')\n",
    "        preprocess = tf.keras.applications.efficientnet.preprocess_input\n",
    "    elif backbone_name == 'Xception':\n",
    "        base = tf.keras.applications.Xception(include_top=False, input_shape=input_shape, weights='imagenet')\n",
    "        preprocess = tf.keras.applications.xception.preprocess_input\n",
    "    else:\n",
    "        raise ValueError(\"Unknown backbone\")\n",
    "\n",
    "    base.trainable = trainable\n",
    "    inp = layers.Input(shape=input_shape)\n",
    "    x = preprocess(inp)\n",
    "    x = base(x, training=False)\n",
    "    out = make_head(x, num_classes)\n",
    "    model = models.Model(inp, out, name=f'{backbone_name}_TL')\n",
    "    return model\n",
    "\n",
    "# === Build and summarize models ===\n",
    "models_to_build = [\n",
    "    ('Baseline', build_baseline),\n",
    "    ('MobileNetV2', lambda: build_tl('MobileNetV2')),\n",
    "    ('EfficientNetB0', lambda: build_tl('EfficientNetB0')),\n",
    "    ('Xception', lambda: build_tl('Xception', input_shape=(299,299,3))),\n",
    "]\n",
    "\n",
    "for name, fn in models_to_build:\n",
    "    try:\n",
    "        m = fn()\n",
    "        m.summary()\n",
    "        # Save initial architecture JSON\n",
    "        with open(MODELS_DIR / f'{name}_architecture.json', 'w') as f:\n",
    "            f.write(m.to_json())\n",
    "    except Exception as e:\n",
    "        print(f\"Failed to build {name}:\", e)"
   ]
  },
  {
   "cell_type": "code",
   "execution_count": null,
   "id": "cadf9a86",
   "metadata": {},
   "outputs": [],
   "source": [
    "# === Export a chosen model for training (frozen backbone) ===\n",
    "chosen = build_tl('EfficientNetB0')\n",
    "chosen.compile(optimizer=tf.keras.optimizers.Adam(1e-3),\n",
    "               loss='categorical_crossentropy',\n",
    "               metrics=['accuracy'])\n",
    "chosen_json = chosen.to_json()\n",
    "with open(MODELS_DIR / 'model_for_training.json', 'w') as f:\n",
    "    f.write(chosen_json)\n",
    "print(\"Saved model_for_training.json\")"
   ]
  }
 ],
 "metadata": {
  "colab": {
   "name": "",
   "provenance": []
  },
  "kernelspec": {
   "display_name": "Python 3",
   "language": "python",
   "name": "python3"
  }
 },
 "nbformat": 4,
 "nbformat_minor": 5
}
