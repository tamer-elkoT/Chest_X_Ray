{
 "cells": [
  {
   "cell_type": "markdown",
   "id": "06a4bed1",
   "metadata": {},
   "source": [
    "# Chest X-Ray Multi‑Class Project — Role Notebook\n",
    "\n",
    "**Dataset:** Kaggle “Lungs Disease Dataset (4 types)” by Omkar Manohar Dalvi  \n",
    "**Classes:** Normal, Bacterial Pneumonia, Viral Pneumonia, COVID‑19, Tuberculosis\n",
    "\n",
    "> Use this notebook in **Google Colab**. If you’re running locally, adapt the Drive mount steps accordingly."
   ]
  },
  {
   "cell_type": "markdown",
   "id": "10a06457",
   "metadata": {},
   "source": [
    "## Role — Member 6: Documentation & Deployment"
   ]
  },
  {
   "cell_type": "markdown",
   "id": "d488fec9",
   "metadata": {},
   "source": [
    "**Responsibilities**  \n",
    "- Maintain report (methods, results, figures)  \n",
    "- Build a simple **Streamlit** app for inference + Grad‑CAM  \n",
    "- (Optional) Export **TensorFlow Lite** model for mobile"
   ]
  },
  {
   "cell_type": "markdown",
   "id": "a6c4fb54",
   "metadata": {},
   "source": [
    "## Environment & Paths\n",
    "\n",
    "- The code below mounts Google Drive (for persistence) and prepares base paths.  \n",
    "- Set `DATASET_DIR` to where the extracted dataset resides (after Kaggle download)."
   ]
  },
  {
   "cell_type": "markdown",
   "id": "361c204e",
   "metadata": {},
   "source": [
    "## Auto‑Report Generator"
   ]
  },
  {
   "cell_type": "markdown",
   "id": "fea33412",
   "metadata": {},
   "source": [
    "This section compiles key artifacts (metrics, confusion matrix) into a lightweight Markdown report."
   ]
  },
  {
   "cell_type": "code",
   "execution_count": null,
   "id": "620a27d3",
   "metadata": {},
   "outputs": [],
   "source": [
    "# === Colab & Paths ===\n",
    "import os, sys, glob, json, random, shutil, time\n",
    "from pathlib import Path\n",
    "\n",
    "# If in Colab, mount Drive (safe to run elsewhere; it will just fail silently)\n",
    "try:\n",
    "    from google.colab import drive\n",
    "    drive.mount('/content/drive', force_remount=True)\n",
    "    IN_COLAB = True\n",
    "except Exception as e:\n",
    "    print(\"Not running on Colab or Drive not available:\", e)\n",
    "    IN_COLAB = False\n",
    "\n",
    "# Project root inside Drive (you can change this)\n",
    "PROJECT_ROOT = Path('/content/drive/MyDrive/Chest_XRay_Project')\n",
    "PROJECT_ROOT.mkdir(parents=True, exist_ok=True)\n",
    "\n",
    "# Where the dataset will live (after download & unzip). Adjust as needed.\n",
    "DATASET_DIR = PROJECT_ROOT / 'lungs_dataset'\n",
    "OUTPUTS_DIR = PROJECT_ROOT / 'outputs'\n",
    "MODELS_DIR = PROJECT_ROOT / 'models'\n",
    "REPORTS_DIR = PROJECT_ROOT / 'reports'\n",
    "\n",
    "for p in [OUTPUTS_DIR, MODELS_DIR, REPORTS_DIR]:\n",
    "    p.mkdir(parents=True, exist_ok=True)\n",
    "\n",
    "print(\"PROJECT_ROOT:\", PROJECT_ROOT)\n",
    "print(\"DATASET_DIR :\", DATASET_DIR)\n",
    "print(\"OUTPUTS_DIR :\", OUTPUTS_DIR)\n",
    "print(\"MODELS_DIR  :\", MODELS_DIR)\n",
    "print(\"REPORTS_DIR :\", REPORTS_DIR)"
   ]
  },
  {
   "cell_type": "code",
   "execution_count": null,
   "id": "cf68245f",
   "metadata": {},
   "outputs": [],
   "source": [
    "import json, numpy as np, matplotlib.pyplot as plt\n",
    "\n",
    "metrics_path = OUTPUTS_DIR / 'metrics.json'\n",
    "cm_path = OUTPUTS_DIR / 'cm.npy'\n",
    "report_md = REPORTS_DIR / 'FINAL_REPORT.md'\n",
    "\n",
    "if metrics_path.exists() and cm_path.exists():\n",
    "    with open(metrics_path) as f:\n",
    "        metrics = json.load(f)\n",
    "    cm = np.load(cm_path)\n",
    "\n",
    "    lines = []\n",
    "    lines.append(\"# Chest X-Ray Multi‑Class — Final Report\\n\")\n",
    "    lines.append(\"## Metrics\\n\")\n",
    "    lines.append(json.dumps(metrics, indent=2))\n",
    "    lines.append(\"\\n## Confusion Matrix\\n\")\n",
    "    lines.append(str(cm))\n",
    "    report_md.write_text(\"\\n\".join(lines), encoding='utf-8')\n",
    "    print(\"Wrote:\", report_md)\n",
    "else:\n",
    "    print(\"Metrics not found yet. Run Member 4 to generate evaluation artifacts.\")"
   ]
  },
  {
   "cell_type": "code",
   "execution_count": null,
   "id": "2cd47b8a",
   "metadata": {},
   "outputs": [],
   "source": [
    "# === Streamlit app skeleton ===\n",
    "app_code = f\"\"\"\n",
    "import streamlit as st\n",
    "import numpy as np\n",
    "import tensorflow as tf\n",
    "from PIL import Image\n",
    "\n",
    "st.title(\"Chest X-Ray Classifier\")\n",
    "st.write(\"Classes: Will read from classes.json in project folder.\")\n",
    "\n",
    "# Load model and classes\n",
    "MODEL_PATH = '{MODELS_DIR.as_posix()}/best_model.keras'\n",
    "CLASSES_PATH = '{(PROJECT_ROOT / \"classes.json\").as_posix()}'\n",
    "\n",
    "@st.cache_resource\n",
    "def load_artifacts():\n",
    "    model = tf.keras.models.load_model(MODEL_PATH)\n",
    "    import json\n",
    "    with open(CLASSES_PATH) as f:\n",
    "        classes = json.load(f)\n",
    "    return model, classes\n",
    "\n",
    "model, CLASS_NAMES = load_artifacts()\n",
    "\n",
    "def preprocess(img: Image.Image, size=(224,224)):\n",
    "    img = img.convert('RGB').resize(size)\n",
    "    arr = np.array(img)/255.0\n",
    "    return np.expand_dims(arr, axis=0)\n",
    "\n",
    "uploaded = st.file_uploader(\"Upload a chest X-ray image\", type=['png','jpg','jpeg'])\n",
    "if uploaded is not None:\n",
    "    img = Image.open(uploaded)\n",
    "    st.image(img, caption=\"Uploaded image\", use_column_width=True)\n",
    "    x = preprocess(img)\n",
    "    preds = model.predict(x)[0]\n",
    "    pred_idx = int(np.argmax(preds))\n",
    "    st.write(f\"**Prediction:** {{CLASS_NAMES[pred_idx]}} (confidence: {{preds[pred_idx]:.3f}})\")\n",
    "\"\"\"\n",
    "\n",
    "with open(PROJECT_ROOT / 'app.py', 'w', encoding='utf-8') as f:\n",
    "    f.write(app_code)\n",
    "print(\"Wrote Streamlit app:\", PROJECT_ROOT / 'app.py')"
   ]
  },
  {
   "cell_type": "code",
   "execution_count": null,
   "id": "84b775ed",
   "metadata": {},
   "outputs": [],
   "source": [
    "# === (Optional) Export to TensorFlow Lite ===\n",
    "try:\n",
    "    import tensorflow as tf\n",
    "    model = tf.keras.models.load_model(MODELS_DIR / 'best_model.keras')\n",
    "    converter = tf.lite.TFLiteConverter.from_keras_model(model)\n",
    "    tflite_model = converter.convert()\n",
    "    tflite_path = MODELS_DIR / 'model.tflite'\n",
    "    with open(tflite_path, 'wb') as f:\n",
    "        f.write(tflite_model)\n",
    "    print(\"Exported TFLite model:\", tflite_path)\n",
    "except Exception as e:\n",
    "    print(\"TFLite export skipped/failed:\", e)"
   ]
  }
 ],
 "metadata": {
  "colab": {
   "name": "",
   "provenance": []
  },
  "kernelspec": {
   "display_name": "Python 3",
   "language": "python",
   "name": "python3"
  }
 },
 "nbformat": 4,
 "nbformat_minor": 5
}
